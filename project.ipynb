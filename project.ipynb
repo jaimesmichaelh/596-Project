{
 "cells": [
  {
   "cell_type": "markdown",
   "metadata": {},
   "source": [
    "# Twitter Bots and \n",
    "# Sentiment Analysis Correlations\n",
    "\n",
    "## Authors: Cameron Lester Michael Jaimes\n",
    "\n",
    "#### The project includes an RNN and LSTM classification of tweets as either human or bot made.  We then ran clustering to see if we could fine tune these models and display their data.\n",
    "\n",
    "We will begin by importing necessary libraries:"
   ]
  },
  {
   "cell_type": "code",
   "execution_count": 23,
   "metadata": {},
   "outputs": [],
   "source": [
    "import numpy as np\n",
    "import python_utils\n",
    "import importlib\n",
    "importlib.reload(python_utils)\n",
    "import csv\n",
    "import pandas as pd\n",
    "\n",
    "import matplotlib.pyplot as plt\n",
    "from sklearn import svm\n",
    "from sklearn.decomposition import PCA\n",
    "from sklearn.datasets import make_moons\n",
    "\n",
    "np.random.seed(1)\n",
    "%matplotlib inline"
   ]
  },
  {
   "cell_type": "markdown",
   "metadata": {},
   "source": [
    "### Load in data"
   ]
  },
  {
   "cell_type": "code",
   "execution_count": 43,
   "metadata": {},
   "outputs": [
    {
     "name": "stdout",
     "output_type": "stream",
     "text": [
      "X_train shape: (203451, 16)\n"
     ]
    }
   ],
   "source": [
    "#X_train = pd.read_csv(\"C:/Users/Cam/Desktop/project/bot_train.csv\")\n",
    "X_train = pd.read_csv('C:\\\\Users\\\\Cam\\\\Downloads\\\\tweets.csv', engine='python')\n",
    "#Y_train_all = np.load(open('Y_train.npy', 'rb'))\n",
    "#X_test_all = np.load(open('X_test.npy', 'rb'))\n",
    "#Y_test_all = np.load(open('Y_test.npy', 'rb'))\n",
    "\n",
    "print('X_train shape:', X_train.shape)\n",
    "#print('Thing', X_train[1,1])\n",
    "#print('Y_train shape:', Y_train.shape)\n",
    "#print('X_test shape:', X_test.shape)\n",
    "#print('Y_test shape:', Y_test.shape)"
   ]
  },
  {
   "cell_type": "code",
   "execution_count": null,
   "metadata": {},
   "outputs": [],
   "source": []
  }
 ],
 "metadata": {
  "kernelspec": {
   "display_name": "Python 3",
   "language": "python",
   "name": "python3"
  },
  "language_info": {
   "codemirror_mode": {
    "name": "ipython",
    "version": 3
   },
   "file_extension": ".py",
   "mimetype": "text/x-python",
   "name": "python",
   "nbconvert_exporter": "python",
   "pygments_lexer": "ipython3",
   "version": "3.6.5"
  }
 },
 "nbformat": 4,
 "nbformat_minor": 2
}
